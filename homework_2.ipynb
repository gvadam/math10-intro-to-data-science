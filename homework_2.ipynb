{
 "cells": [
  {
   "cell_type": "markdown",
   "metadata": {},
   "source": [
    "# Homework 2\n",
    "\n",
    "This homework has three problems. Please fill the code block cells with your code and comments, ***run*** everything (select `cell` in the menu, and click `Run all`), save the notebook, and upload it to canvas."
   ]
  },
  {
   "cell_type": "markdown",
   "metadata": {},
   "source": [
    "## Problem 1: List Manipulation\n",
    "\n",
    "Write the codes in one cell to exeucte the following tasks:\n",
    "\n",
    "1. Create a list object, containing all **even** numbers from 1 to 99, name it `mylist` \n",
    "2. Print the identity of `mylist`\n",
    "3. Append integer 3 to `mylist`\n",
    "4. Print the identity of `mylist`\n",
    "5. Sort the `mylist` with **descending** order\n",
    "6. Print the identity of `mylist` again\n",
    "7. Print `mylist`"
   ]
  },
  {
   "cell_type": "code",
   "execution_count": 1,
   "metadata": {},
   "outputs": [],
   "source": [
    "#1\n",
    "myList = list(range(2,99,2))"
   ]
  },
  {
   "cell_type": "code",
   "execution_count": 2,
   "metadata": {},
   "outputs": [
    {
     "name": "stdout",
     "output_type": "stream",
     "text": [
      "1944521275272\n"
     ]
    }
   ],
   "source": [
    "#2\n",
    "print(id(myList))"
   ]
  },
  {
   "cell_type": "code",
   "execution_count": 3,
   "metadata": {},
   "outputs": [],
   "source": [
    "#3\n",
    "myList.append(3)"
   ]
  },
  {
   "cell_type": "code",
   "execution_count": 4,
   "metadata": {},
   "outputs": [
    {
     "name": "stdout",
     "output_type": "stream",
     "text": [
      "1944521275272\n"
     ]
    }
   ],
   "source": [
    "#4\n",
    "print(id(myList))"
   ]
  },
  {
   "cell_type": "code",
   "execution_count": 5,
   "metadata": {},
   "outputs": [],
   "source": [
    "#5\n",
    "myList.sort(reverse = True)"
   ]
  },
  {
   "cell_type": "code",
   "execution_count": 6,
   "metadata": {},
   "outputs": [
    {
     "name": "stdout",
     "output_type": "stream",
     "text": [
      "1944521275272\n"
     ]
    }
   ],
   "source": [
    "#6\n",
    "print(id(myList))"
   ]
  },
  {
   "cell_type": "code",
   "execution_count": 7,
   "metadata": {},
   "outputs": [
    {
     "name": "stdout",
     "output_type": "stream",
     "text": [
      "[98, 96, 94, 92, 90, 88, 86, 84, 82, 80, 78, 76, 74, 72, 70, 68, 66, 64, 62, 60, 58, 56, 54, 52, 50, 48, 46, 44, 42, 40, 38, 36, 34, 32, 30, 28, 26, 24, 22, 20, 18, 16, 14, 12, 10, 8, 6, 4, 3, 2]\n"
     ]
    }
   ],
   "source": [
    "#7\n",
    "print(myList)"
   ]
  },
  {
   "cell_type": "markdown",
   "metadata": {},
   "source": [
    "## Problem 2: Divisor Generator\n",
    "\n",
    "1. Write a function named `divisor_generator` which takes a positive integer as input, and return a list of **all** its positive divisors.\n",
    "2. Test your function by printing the results of `divisor_generator(202101)`\n",
    "\n",
    "*Hint*: \n",
    "\n",
    "1. For basic requirement, you don't have to check whether the input is positive integer or not -- of course it would be great if you do so.\n",
    "\n",
    "2. For a more efficient implementation, you might only need iterate for integers not greater than the square root of n -- think why!"
   ]
  },
  {
   "cell_type": "code",
   "execution_count": 8,
   "metadata": {},
   "outputs": [],
   "source": [
    "import math\n",
    "def divisor_generator(n):\n",
    "    divisors = []\n",
    "    i = 1\n",
    "    while i <= math.sqrt(n): #iterating through integers not greater than square root of n         \n",
    "        if (n % i == 0): # if n is divisible by i, then i is a divisor\n",
    "            if (i**2 == n): # if i*i equals n, then append i\n",
    "                divisors.append(i)\n",
    "            else: # the two numbers, i and n/i, whose product equals n are both appended into the list\n",
    "                divisors.append(i)\n",
    "                divisors.append(int(n/i)) # int() to avoid appending floats\n",
    "        i += 1\n",
    "    return divisors"
   ]
  },
  {
   "cell_type": "code",
   "execution_count": 12,
   "metadata": {},
   "outputs": [
    {
     "name": "stdout",
     "output_type": "stream",
     "text": [
      "[1, 202101, 3, 67367, 23, 8787, 29, 6969, 69, 2929, 87, 2323, 101, 2001, 303, 667]\n"
     ]
    }
   ],
   "source": [
    "print(divisor_generator(202101))"
   ]
  },
  {
   "cell_type": "markdown",
   "metadata": {},
   "source": [
    "## Problem 3: Prime Number\n",
    "1. Write a function named `is_prime` which takes a positive integer as input, and return `True` if it is prime number and `False` otherwise.\n",
    "2. Use this function to generate a list named `primelist` that contains all prime numbers less than 2021. Print this list."
   ]
  },
  {
   "cell_type": "code",
   "execution_count": 10,
   "metadata": {},
   "outputs": [
    {
     "name": "stdout",
     "output_type": "stream",
     "text": [
      "[2, 3, 5, 7, 11, 13, 17, 19, 23, 29, 31, 37, 41, 43, 47, 53, 59, 61, 67, 71, 73, 79, 83, 89, 97, 101, 103, 107, 109, 113, 127, 131, 137, 139, 149, 151, 157, 163, 167, 173, 179, 181, 191, 193, 197, 199, 211, 223, 227, 229, 233, 239, 241, 251, 257, 263, 269, 271, 277, 281, 283, 293, 307, 311, 313, 317, 331, 337, 347, 349, 353, 359, 367, 373, 379, 383, 389, 397, 401, 409, 419, 421, 431, 433, 439, 443, 449, 457, 461, 463, 467, 479, 487, 491, 499, 503, 509, 521, 523, 541, 547, 557, 563, 569, 571, 577, 587, 593, 599, 601, 607, 613, 617, 619, 631, 641, 643, 647, 653, 659, 661, 673, 677, 683, 691, 701, 709, 719, 727, 733, 739, 743, 751, 757, 761, 769, 773, 787, 797, 809, 811, 821, 823, 827, 829, 839, 853, 857, 859, 863, 877, 881, 883, 887, 907, 911, 919, 929, 937, 941, 947, 953, 967, 971, 977, 983, 991, 997, 1009, 1013, 1019, 1021, 1031, 1033, 1039, 1049, 1051, 1061, 1063, 1069, 1087, 1091, 1093, 1097, 1103, 1109, 1117, 1123, 1129, 1151, 1153, 1163, 1171, 1181, 1187, 1193, 1201, 1213, 1217, 1223, 1229, 1231, 1237, 1249, 1259, 1277, 1279, 1283, 1289, 1291, 1297, 1301, 1303, 1307, 1319, 1321, 1327, 1361, 1367, 1373, 1381, 1399, 1409, 1423, 1427, 1429, 1433, 1439, 1447, 1451, 1453, 1459, 1471, 1481, 1483, 1487, 1489, 1493, 1499, 1511, 1523, 1531, 1543, 1549, 1553, 1559, 1567, 1571, 1579, 1583, 1597, 1601, 1607, 1609, 1613, 1619, 1621, 1627, 1637, 1657, 1663, 1667, 1669, 1693, 1697, 1699, 1709, 1721, 1723, 1733, 1741, 1747, 1753, 1759, 1777, 1783, 1787, 1789, 1801, 1811, 1823, 1831, 1847, 1861, 1867, 1871, 1873, 1877, 1879, 1889, 1901, 1907, 1913, 1931, 1933, 1949, 1951, 1973, 1979, 1987, 1993, 1997, 1999, 2003, 2011, 2017]\n"
     ]
    }
   ],
   "source": [
    "def is_prime(n):\n",
    "    if len(divisor_generator(n)) == 2:\n",
    "        return True\n",
    "    return False\n",
    "\n",
    "primeList = [i for i in list(range(1,2021)) if is_prime(i)]\n",
    "print(primeList)"
   ]
  },
  {
   "cell_type": "markdown",
   "metadata": {},
   "source": [
    "## Optional Problem (Not graded)\n",
    "\n",
    "In certain homeworks/final project, we will provide some optional problems for you to think and try. They won't count in the grades, while they may serve as the good opportunity to sharpen your skills, as well as the important reference to determine the A+ grade at the end of this course.\n",
    "\n",
    "1. Try to use the **list comprehension** as possible as you can in writing the codes above.\n",
    "\n",
    "\n",
    "2. For task 2 in Problem 3, can you use efficient algorithms, for instance [Sieve of Eratosthenes](https://en.wikipedia.org/wiki/Sieve_of_Eratosthenes)?"
   ]
  },
  {
   "cell_type": "code",
   "execution_count": 11,
   "metadata": {},
   "outputs": [
    {
     "name": "stdout",
     "output_type": "stream",
     "text": [
      "[2, 3, 5, 7, 11, 13, 17, 19, 23, 29, 31, 37, 41, 43, 47, 53, 59, 61, 67, 71, 73, 79, 83, 89, 97, 101, 103, 107, 109, 113, 127, 131, 137, 139, 149, 151, 157, 163, 167, 173, 179, 181, 191, 193, 197, 199, 211, 223, 227, 229, 233, 239, 241, 251, 257, 263, 269, 271, 277, 281, 283, 293, 307, 311, 313, 317, 331, 337, 347, 349, 353, 359, 367, 373, 379, 383, 389, 397, 401, 409, 419, 421, 431, 433, 439, 443, 449, 457, 461, 463, 467, 479, 487, 491, 499, 503, 509, 521, 523, 541, 547, 557, 563, 569, 571, 577, 587, 593, 599, 601, 607, 613, 617, 619, 631, 641, 643, 647, 653, 659, 661, 673, 677, 683, 691, 701, 709, 719, 727, 733, 739, 743, 751, 757, 761, 769, 773, 787, 797, 809, 811, 821, 823, 827, 829, 839, 853, 857, 859, 863, 877, 881, 883, 887, 907, 911, 919, 929, 937, 941, 947, 953, 967, 971, 977, 983, 991, 997, 1009, 1013, 1019, 1021, 1031, 1033, 1039, 1049, 1051, 1061, 1063, 1069, 1087, 1091, 1093, 1097, 1103, 1109, 1117, 1123, 1129, 1151, 1153, 1163, 1171, 1181, 1187, 1193, 1201, 1213, 1217, 1223, 1229, 1231, 1237, 1249, 1259, 1277, 1279, 1283, 1289, 1291, 1297, 1301, 1303, 1307, 1319, 1321, 1327, 1361, 1367, 1373, 1381, 1399, 1409, 1423, 1427, 1429, 1433, 1439, 1447, 1451, 1453, 1459, 1471, 1481, 1483, 1487, 1489, 1493, 1499, 1511, 1523, 1531, 1543, 1549, 1553, 1559, 1567, 1571, 1579, 1583, 1597, 1601, 1607, 1609, 1613, 1619, 1621, 1627, 1637, 1657, 1663, 1667, 1669, 1693, 1697, 1699, 1709, 1721, 1723, 1733, 1741, 1747, 1753, 1759, 1777, 1783, 1787, 1789, 1801, 1811, 1823, 1831, 1847, 1861, 1867, 1871, 1873, 1877, 1879, 1889, 1901, 1907, 1913, 1931, 1933, 1949, 1951, 1973, 1979, 1987, 1993, 1997, 1999, 2003, 2011, 2017]\n"
     ]
    }
   ],
   "source": [
    "def get_list(i,n): # j = i^2, i^2+i, ... less than or equal n\n",
    "    l = []\n",
    "    k = 1\n",
    "    x = i**2\n",
    "    while x <= n:\n",
    "        l.append(x)\n",
    "        x = i**2 + k*i\n",
    "        k += 1\n",
    "    return l\n",
    "\n",
    "def is_prime(n):\n",
    "    A = [True] * (n + 1)\n",
    "    A[0] = False #0 and 1 are not prime, so set to False\n",
    "    A[1] = False\n",
    "    for i in list(range(2, 1 + int(math.sqrt(n)))): # not exceeding sqrt(n)\n",
    "        if A[i] == True:\n",
    "            for j in get_list(i,n):\n",
    "                A[j] = False\n",
    "                \n",
    "    return [index for index,value in enumerate(A) if value == True]\n",
    "\n",
    "print(is_prime(2021))"
   ]
  }
 ],
 "metadata": {
  "kernelspec": {
   "display_name": "Python 3",
   "language": "python",
   "name": "python3"
  },
  "language_info": {
   "codemirror_mode": {
    "name": "ipython",
    "version": 3
   },
   "file_extension": ".py",
   "mimetype": "text/x-python",
   "name": "python",
   "nbconvert_exporter": "python",
   "pygments_lexer": "ipython3",
   "version": "3.7.3"
  }
 },
 "nbformat": 4,
 "nbformat_minor": 4
}
