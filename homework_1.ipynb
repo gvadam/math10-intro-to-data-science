{
 "cells": [
  {
   "cell_type": "markdown",
   "metadata": {},
   "source": [
    "# Homework 1"
   ]
  },
  {
   "cell_type": "markdown",
   "metadata": {},
   "source": [
    "### [Fundamental Theorem of Calculus](https://mathworld.wolfram.com/FundamentalTheoremsofCalculus.html)"
   ]
  },
  {
   "cell_type": "markdown",
   "metadata": {},
   "source": [
    "The first fundamental theorem of calculus states that if you want to find the area under the curve of a continuous function f on the interval x = a to x = b, then you take the antiderivative F and evaluate the following:\n",
    "$\\int_{a}^b f(x)dx = F(b) - F(a)$\n",
    "\n",
    "The second fundamental theorem of calculus states that if the antiderivative is defined as follows,\n",
    "$F(x) = \\int_{a}^x f(t)dt$,\n",
    "then the derivative of the antiderivative F equals the function f on the interval t = a to t = x: \n",
    "$F'(x) = f(x)$"
   ]
  }
 ],
 "metadata": {
  "kernelspec": {
   "display_name": "Python 3",
   "language": "python",
   "name": "python3"
  },
  "language_info": {
   "codemirror_mode": {
    "name": "ipython",
    "version": 3
   },
   "file_extension": ".py",
   "mimetype": "text/x-python",
   "name": "python",
   "nbconvert_exporter": "python",
   "pygments_lexer": "ipython3",
   "version": "3.7.3"
  }
 },
 "nbformat": 4,
 "nbformat_minor": 2
}
