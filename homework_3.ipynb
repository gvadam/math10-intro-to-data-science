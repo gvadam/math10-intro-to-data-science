{
 "cells": [
  {
   "cell_type": "markdown",
   "metadata": {},
   "source": [
    "# Homework 3\n",
    "\n",
    "This homework has two problems. Please fill the code block cells with your code and comments, ***run*** everything (select `cell` in the menu, and click `Run all`), save the notebook, and upload it to canvas."
   ]
  },
  {
   "cell_type": "markdown",
   "metadata": {},
   "source": [
    "## Problem 1: Triangle Class\n",
    "\n",
    "Define the class named `Triangle`, which takes three positive number $a,b,c$ as the input to initialize the instance, representing the length of three sides. The class should have \n",
    "- three attributes named a,b,c corresponding to the input.\n",
    "- a method named `is_triangle`, which returns `True` if the three number forms a valid triangle, and `False` othersie.\n",
    "- a method named `perimeter`, which returns the perimeter of triangle. \n",
    "- a method named `area`, which returns the area of triangle. *Hint: you can use [Heron's formula](https://www.mathsisfun.com/geometry/herons-formula.html)*\n",
    "- a method named `height`, which returns a list containg the three heights corresponded to the three input bases."
   ]
  },
  {
   "cell_type": "code",
   "execution_count": 1,
   "metadata": {},
   "outputs": [],
   "source": [
    "import math\n",
    "\n",
    "class Triangle:\n",
    "    '''Define a Triangle object given its three lengths'''\n",
    "    \n",
    "    def __init__(self,a,b,c):\n",
    "        '''Initializes the triangle with three numbers representing \n",
    "        lengths of object'''\n",
    "        self.a = a\n",
    "        self.b = b\n",
    "        self.c = c\n",
    "        \n",
    "    def is_triangle(self):\n",
    "        '''Returns True if if the lengths given form a valid triangle. False otherwise.''' \n",
    "        #Uses Triangle Inequality theorem\n",
    "        return self.a + self.b > self.c and self.b + self.c > self.a and self.a + self.c > self.b\n",
    "    \n",
    "    def perimeter(self):\n",
    "        '''Returns the perimeter of triangle'''\n",
    "        #Adds all of its sides\n",
    "        return self.a + self.b + self.c\n",
    "    \n",
    "    def area(self):\n",
    "        '''Returns area of triangle'''\n",
    "        #Uses Herons formula\n",
    "        s = ( self.a + self.b + self. c ) / 2\n",
    "        return math.sqrt(s*(s-self.a)*(s-self.b)*(s-self.c))\n",
    "    \n",
    "    def height(self):\n",
    "        '''Returns list of heights for triangle'''\n",
    "        #Retrieves area of triangle first and uses formula (2*Area)/Base to find height\n",
    "        x = self.area()\n",
    "        return [((2*x)/self.a), ((2*x)/self.b), ((2*x)/self.c)]"
   ]
  },
  {
   "cell_type": "markdown",
   "metadata": {},
   "source": [
    "When your code is done, run it and test the class with following piplines -- Please re-run and save the results below."
   ]
  },
  {
   "cell_type": "code",
   "execution_count": 2,
   "metadata": {},
   "outputs": [
    {
     "data": {
      "text/plain": [
       "False"
      ]
     },
     "execution_count": 2,
     "metadata": {},
     "output_type": "execute_result"
    }
   ],
   "source": [
    "triangle_1 = Triangle(1.0,2.0,3.0)\n",
    "triangle_1.is_triangle()"
   ]
  },
  {
   "cell_type": "code",
   "execution_count": 3,
   "metadata": {},
   "outputs": [
    {
     "name": "stdout",
     "output_type": "stream",
     "text": [
      "True\n",
      "12.0\n",
      "6.0\n",
      "[4.0, 3.0, 2.4]\n"
     ]
    }
   ],
   "source": [
    "triangle_2 = Triangle(3.0,4.0,5.0)\n",
    "print(triangle_2.is_triangle())\n",
    "print(triangle_2.perimeter())\n",
    "print(triangle_2.area())\n",
    "print(triangle_2.height())"
   ]
  },
  {
   "cell_type": "markdown",
   "metadata": {},
   "source": [
    "Note that your defined methods should be valid for any triangle instead of special ones."
   ]
  },
  {
   "cell_type": "markdown",
   "metadata": {},
   "source": [
    "## Problem 2: Line Class\n",
    "\n",
    "Define the class called `Line` which represents a line with equation $y = kx + b$ with input slope $k$ and intercept $b$ to initialize the instances. It should include:\n",
    "- attributes named $k$ and $b$ to represent slope and intercept.\n",
    "- method named `intersect` to return the list, containing coordinates of the intersection point of two lines.\n",
    "- support for `+` operator to compute the addition of two equations. The sum of two `Line` objects $y=k_{1}x+b_{1}$ and $y=k_{2}x+b_{2}$ is defined as the line $y=(k_{1}+k_{2})x+b_{1}+b_{2}$.\n",
    "- printable representation for the equation of line, which we have already defined in `__repr__` speical method below."
   ]
  },
  {
   "cell_type": "code",
   "execution_count": 4,
   "metadata": {},
   "outputs": [],
   "source": [
    "class Line:\n",
    "    '''Defines a Line given its slope and intercept.'''\n",
    "    \n",
    "    def __init__(self, k, b):\n",
    "        '''Initializes Line with attributes slope k and intercept b'''\n",
    "        self.k = k\n",
    "        self.b = b\n",
    "    \n",
    "    def __repr__(self):\n",
    "        '''printable representation of the line by equation y = k*x+b'''\n",
    "        return 'line y = %r*x + %r' % (self.k, self.b)\n",
    "\n",
    "    def __add__(self,other):\n",
    "        '''Adds two lines and returns the result as a new Line object'''\n",
    "        #Calculates the new slope and intercept from the two original lines\n",
    "        slope = self.k + other.k\n",
    "        intercept = self.b + other.b\n",
    "        return Line(slope, intercept)\n",
    "        \n",
    "    def intersect(self,other):\n",
    "        '''Returns a list containing the x and y point where two lines intersect'''\n",
    "        x = (other.b - self.b) / (self.k - other.k)\n",
    "        y = self.k * x + self.b\n",
    "        return [x, y]"
   ]
  },
  {
   "cell_type": "markdown",
   "metadata": {},
   "source": [
    "When your code is done, run it and test the class with following piplines -- Please re-run and save the results below."
   ]
  },
  {
   "cell_type": "code",
   "execution_count": 5,
   "metadata": {},
   "outputs": [],
   "source": [
    "line1 = Line(2,1)\n",
    "line2 = Line(1,2)\n",
    "line3 = line1+line2"
   ]
  },
  {
   "cell_type": "code",
   "execution_count": 6,
   "metadata": {},
   "outputs": [
    {
     "data": {
      "text/plain": [
       "line y = 3*x + 3"
      ]
     },
     "execution_count": 6,
     "metadata": {},
     "output_type": "execute_result"
    }
   ],
   "source": [
    "line3"
   ]
  },
  {
   "cell_type": "code",
   "execution_count": 7,
   "metadata": {},
   "outputs": [
    {
     "name": "stdout",
     "output_type": "stream",
     "text": [
      "[1.0, 3.0]\n"
     ]
    }
   ],
   "source": [
    "point = line1.intersect(line2)\n",
    "print(point)"
   ]
  }
 ],
 "metadata": {
  "kernelspec": {
   "display_name": "Python 3",
   "language": "python",
   "name": "python3"
  },
  "language_info": {
   "codemirror_mode": {
    "name": "ipython",
    "version": 3
   },
   "file_extension": ".py",
   "mimetype": "text/x-python",
   "name": "python",
   "nbconvert_exporter": "python",
   "pygments_lexer": "ipython3",
   "version": "3.7.3"
  }
 },
 "nbformat": 4,
 "nbformat_minor": 4
}
